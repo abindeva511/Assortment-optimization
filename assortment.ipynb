{
 "cells": [
  {
   "cell_type": "markdown",
   "metadata": {},
   "source": [
    "# MGMTMSA 408 -- Lecture 4: Assortment Optimization\n",
    "\n",
    "In this notebook, we will be exploring the topic of assortment/product line optimization using a data set from Timbuk2.\n",
    "\n",
    "## Setting up the data\n",
    "First, let's extract the customer information. "
   ]
  },
  {
   "cell_type": "code",
   "execution_count": 1,
   "metadata": {},
   "outputs": [
    {
     "name": "stdout",
     "output_type": "stream",
     "text": [
      "Number of customers:  330\n",
      "Shape:  (330, 10)\n"
     ]
    }
   ],
   "source": [
    "# First, let's import some packages.\n",
    "import numpy as np\n",
    "import pandas as pd\n",
    "\n",
    "# Read the partworth matrix:\n",
    "partworths = pd.read_csv(\"partworths_small_v2-1.csv\",  header=None)\n",
    "\n",
    "# Convert to a numpy array to make life easier: \n",
    "partworths = np.asarray(partworths)\n",
    "nCustomers = partworths.shape[0]\n",
    "print(\"Number of customers: \", nCustomers)\n",
    "print(\"Shape: \", partworths.shape)"
   ]
  },
  {
   "cell_type": "markdown",
   "metadata": {},
   "source": [
    "The partworth array contains information about the partworths (attribute level utilities) for the 330 customers in our sample. The rows correspond to different customers, while the columns correspond to different attributes. The attributes in this problem are as follows:\n",
    "\n",
    "|Attribute Num.|Attribute|\n",
    "|-|-|\n",
    "|1|Price|\n",
    "|2|Size (0 = normal, 1 = large)|\n",
    "|3|Color (0 = black, 1 = red)|\n",
    "|4|Logo (0 = no logo, 1 = logo)|\n",
    "|5|Handle (0 = no handle, 1 = has handle)|\n",
    "|6|PDA holder (0 = no holder, 1 = has holder)|\n",
    "|7|Cellphone holder (0 = no holder, 1 = has holder)|\n",
    "|8|Mesh pocket (0 = no pocket, 1 = has pocket)|\n",
    "|9|Velcro flap (0 = no flap, 1 = has flap)|\n",
    "|10|Protective boot (0 = no boot, 1 = has boot)|\n",
    "\n",
    "\n",
    "The columns in partworths indicate the following about the customer utilities for these attributes:\n",
    "\n",
    "|Column|Meaning\n",
    "| :--- | :--- |\n",
    "|1|Difference in utility of a price of \\\\$ $x$ + 1 to a price of \\\\$ $x$|\n",
    "|2|\" \" \" of large bag relative to normal size bag|\n",
    "|3|\" \" \" of red bag relative to black bag|\n",
    "|4|\" \" \" of bag with logo relative to bag with no logo|\n",
    "|5|\" \" \" of bag with handle relative to bag with no handle|\n",
    "|6|\" \" \" of bag with PDA holder relative to bag with no PDA holder|\n",
    "|7|\" \" \" of bag with cellphone holder relative to bag with no cellphone holder|\n",
    "|8|\" \" \" of bag with mesh pocket relative to bag with no pocket|\n",
    "|9|\" \" \" of bag with velcro flap relative to bag with no flap|\n",
    "|10|\" \" \" of bag with protective boot relative to bag with no boot|\n",
    "\n",
    "Some examples:"
   ]
  },
  {
   "cell_type": "code",
   "execution_count": 2,
   "metadata": {},
   "outputs": [
    {
     "name": "stdout",
     "output_type": "stream",
     "text": [
      "Customer 10: \n",
      "11.79\n",
      "-4.45\n",
      "Customer 20: \n",
      "-17.41\n",
      "46.25\n",
      "-1.67833333333333\n",
      "-0.327333333333333\n"
     ]
    }
   ],
   "source": [
    "# Utility of customer 10 for attribute 6 (PDA holder) and attribute 9 (velcro flap):\n",
    "print(\"Customer 10: \")\n",
    "print(partworths[9,5])\n",
    "print(partworths[9,8])\n",
    "\n",
    "# Utility of customer 20 for attribute 6 (PDA holder):\n",
    "print(\"Customer 20: \")\n",
    "print(partworths[19,5])\n",
    "print(partworths[19,8])\n",
    "\n",
    "# The above hopefully gives you a taste of why this problem is going to be difficult!\n",
    "\n",
    "print(partworths[9,0])\n",
    "print(partworths[19,0])\n",
    "\n",
    "# print( partworths[9,] / np.abs(partworths[9,0]))"
   ]
  },
  {
   "cell_type": "markdown",
   "metadata": {},
   "source": [
    "Now that we have the partworth information, let's load the candidate products that we are going to consider. The columns correspond to products, while the rows indicate the attributes. In the set of products that we will consider, the price is discretized between \\\\$70 and \\\\$100 in \\\\$5 increments (i.e., the price can be \\\\$70, \\\\$75, ..., \\\\$100). With this discretization, the file grand_product_matrix_small_v2.csv contains only a subset of 100 products. (Note that the total number of attribute combinations, with this discretization of price, is 3584; using all 3584 products renders the problem extremely difficult, so we will restrict ourselves to only 100 product.)"
   ]
  },
  {
   "cell_type": "code",
   "execution_count": 3,
   "metadata": {},
   "outputs": [
    {
     "name": "stdout",
     "output_type": "stream",
     "text": [
      "Shape:  (10, 100)\n",
      "Product 1 attributes: \n",
      "[70  0  0  0  0  0  0  0  1  0]\n",
      "Product 20 attributes: \n",
      "[100   0   0   1   1   0   0   0   0   1]\n"
     ]
    }
   ],
   "source": [
    "# Load the product matrix\n",
    "grand_product_matrix = pd.read_csv(\"grand_product_matrix_small_v2-1.csv\", header = None)\n",
    "grand_product_matrix = np.asarray(grand_product_matrix)\n",
    "\n",
    "# Get the number of products\n",
    "nProducts = grand_product_matrix.shape[1]\n",
    "\n",
    "print(\"Shape: \", grand_product_matrix.shape)\n",
    "\n",
    "# Check product 1 \n",
    "print(\"Product 1 attributes: \")\n",
    "print(grand_product_matrix[:,0])\n",
    "# Bag priced at $70, normal size black bag with a velcro flap\n",
    "\n",
    "# Check product 20\n",
    "print(\"Product 20 attributes: \")\n",
    "print(grand_product_matrix[:,19])\n",
    "# Bag priced at $100, normal size black bag, with logo, handle and protective boot"
   ]
  },
  {
   "cell_type": "markdown",
   "metadata": {},
   "source": [
    "To make our lives easier, let's define a simple function that can take an attribute array and output a nice English description of the product:"
   ]
  },
  {
   "cell_type": "code",
   "execution_count": 4,
   "metadata": {},
   "outputs": [
    {
     "name": "stdout",
     "output_type": "stream",
     "text": [
      "Product 1 attributes: \n",
      "Bag: $70, Normal, Black, Velcro Flap\n",
      "Product 20 attributes: \n",
      "Bag: $100, Normal, Black, Logo, Handle, Boot\n"
     ]
    }
   ],
   "source": [
    "# print_attributes function to return string with product attributes.\n",
    "def print_attributes(attr_vec):\n",
    "    attr_string = \"Bag: \";\n",
    "    attr_string += \"$\" + str(attr_vec[0])\n",
    "    attr_string += (\", Large\" if attr_vec[1] == 1 else \", Normal\")\n",
    "    attr_string += (\", Grey/Red\" if attr_vec[2] == 1 else \", Black\")\n",
    "    attr_string += (\", Logo\" if attr_vec[3] == 1 else \"\")\n",
    "    attr_string += (\", Handle\" if attr_vec[4] == 1 else \"\")\n",
    "    attr_string += (\", PDA Holder\" if attr_vec[5] == 1 else \"\")\n",
    "    attr_string += (\", Cellphone Holder\" if attr_vec[6] == 1 else \"\")\n",
    "    attr_string += (\", Mesh Pocket\" if attr_vec[7] == 1 else \"\")\n",
    "    attr_string += (\", Velcro Flap\" if attr_vec[8] == 1 else \"\")\n",
    "    attr_string += (\", Boot\" if attr_vec[9] == 1 else \"\")\n",
    "    return attr_string\n",
    "\n",
    "# Test it out:\n",
    "print(\"Product 1 attributes: \")\n",
    "print( print_attributes(grand_product_matrix[:,0]) )\n",
    "\n",
    "print(\"Product 20 attributes: \")\n",
    "print( print_attributes(grand_product_matrix[:,19]) )"
   ]
  },
  {
   "cell_type": "markdown",
   "metadata": {},
   "source": [
    "We still have a couple of things that we need to do before we can move on to testing out sets of products. We need to obtain the marginal profit of each product and we need to obtain the utilities of the products.\n",
    "\n",
    "The following is known about the marginal incremental cost of each attribute:\n",
    "\n",
    "|Attribute Num.|Attribute|Marginal incremental cost|\n",
    "|-|-|-|\n",
    "|2|Size (0 = normal, 1 = large)| \\\\$3.50|\n",
    "|3|Color (0 = black, 1 = red)| \\\\$0.00|\n",
    "|4|Logo (0 = no logo, 1 = logo)| \\\\$2.00|\n",
    "|5|Handle (0 = no handle, 1 = has handle)| \\\\$3.50 |\n",
    "|6|PDA holder (0 = no holder, 1 = has holder)| \\\\$3.00|\n",
    "|7|Cellphone holder (0 = no holder, 1 = has holder)| \\\\$3.00|\n",
    "|8|Mesh pocket (0 = no pocket, 1 = has pocket)| \\\\$2.00|\n",
    "|9|Velcro flap (0 = no flap, 1 = has flap)| \\\\$3.50|\n",
    "|10|Protective boot (0 = no boot, 1 = has boot)| \\\\$4.50|\n",
    "\n",
    "Let's now calculate the marginal profit of each of the 100 candidate products."
   ]
  },
  {
   "cell_type": "code",
   "execution_count": 5,
   "metadata": {},
   "outputs": [
    {
     "name": "stdout",
     "output_type": "stream",
     "text": [
      "[66.5 62.  60.5 53.5 61.5 48.5 61.5 55.5 59.  58.5 59.5 61.  53.5 53.5\n",
      " 63.5 60.  96.5 90.5 88.5 90.  89.5 94.  89.  83.5 88.  80.5 88.  84.5\n",
      " 91.  88.  88.  88.5 84.  83.  94.5 85.5 85.  86.5 84.5 84.5 90.  80.5\n",
      " 86.5 87.  92.  75.5 85.5 86.  80.  73.  89.5 73.5 70.  85.5 81.5 84.5\n",
      " 82.5 77.  79.  83.5 79.  79.5 77.  67.  72.  80.  76.5 65.  73.  63.5\n",
      " 64.  66.5 72.5 64.  65.5 73.5 70.  71.5 78.  68.5 57.  66.5 62.5 71.\n",
      " 68.  60.5 68.5 65.  62.  75.  68.5 67.5 66.5 72.  63.  62.  58.5 61.5\n",
      " 61.5 57. ]\n",
      "[75  1  0  0  1  1  0  0  1  1]\n",
      "57.0\n",
      "57.0\n"
     ]
    }
   ],
   "source": [
    "# Incremental costs of the non-price attributes:\n",
    "incremental_cost = np.array([3.5, 0, 2, 3.5, 3, 3, 2, 3.5, 4.5])\n",
    "\n",
    "# Calculate the marginal profit\n",
    "marginal_profit = grand_product_matrix[0,:] - np.dot(incremental_cost, grand_product_matrix[1:,:] )\n",
    "print(marginal_profit)\n",
    "\n",
    "# Let's take an example just to make sure this worked correctly:\n",
    "print(grand_product_matrix[:,99])\n",
    "print(marginal_profit[99])\n",
    "print(75 - 3.5 - 3.5 - 3 - 3.5 - 4.5)"
   ]
  },
  {
   "cell_type": "markdown",
   "metadata": {},
   "source": [
    "Great! We have the marginal profits. Now let's get the utility of each product. We need a matrix where the rows correspond to customers, and the columns correspond to products. Numpy can again help us with this."
   ]
  },
  {
   "cell_type": "code",
   "execution_count": 6,
   "metadata": {
    "scrolled": true
   },
   "outputs": [
    {
     "name": "stdout",
     "output_type": "stream",
     "text": [
      "Dimensions:  (330, 100)\n",
      "[75  1  0  0  1  1  0  0  1  1]\n",
      "[-5.000e-03  5.009e+01 -9.985e+01 -8.659e+01  7.140e+01 -2.410e+01\n",
      " -1.100e-01  2.800e-01 -2.427e+01  3.400e-01]\n",
      "73.08500000000002\n",
      "73.08500000000002\n"
     ]
    }
   ],
   "source": [
    "# Calculate the utilities matrix:\n",
    "utilities_mat = np.dot(partworths, grand_product_matrix)\n",
    "# Inspect the dimensions:\n",
    "print(\"Dimensions: \",utilities_mat.shape)\n",
    "\n",
    "# Again, let's take an example to make sure things worked ok:\n",
    "print(grand_product_matrix[:,99])\n",
    "print(partworths[49,])\n",
    "print(75 * (-0.005) + 1*(50.09) + 0 *(-99.85) + 0 * (-86.59) + 1 * 71.4 + 1 * (-24.1) + 0*(-0.11) + 0*(0.28) + 1 * (-24.27) + 1 * 0.34)\n",
    "print(utilities_mat[49,99])"
   ]
  },
  {
   "cell_type": "markdown",
   "metadata": {},
   "source": [
    "So we now have our utilities!\n",
    "\n",
    "We need one final thing before we move on to computing some expected profits. Our model of customer choice assumes that customers can always choose to not purchase any of the products. The data we have does not explicitly have a utility for this possibility. \n",
    "\n",
    "A common approach to dealing with this is to assume that the customers can choose certain competitive offerings. As mentioned in the slides, we will assume that we have 3 competitive offerings: a low-end bag, a mid-range bag and a high-end bag. The no-purchase utility for a given customer will thus correspond to the highest utility of these three."
   ]
  },
  {
   "cell_type": "code",
   "execution_count": 7,
   "metadata": {},
   "outputs": [
    {
     "name": "stdout",
     "output_type": "stream",
     "text": [
      "[[ 70  85 100]\n",
      " [  0   0   1]\n",
      " [  0   0   1]\n",
      " [  0   0   1]\n",
      " [  0   0   1]\n",
      " [  0   1   1]\n",
      " [  0   1   1]\n",
      " [  0   1   1]\n",
      " [  0   1   1]\n",
      " [  0   1   1]]\n",
      "[[-157.40666667 -117.53666667 -284.29666667]\n",
      " [-232.09666667 -477.60166667 -688.62666667]\n",
      " [-177.84666667  -73.16666667   46.27333333]\n",
      " [ -12.15666667  103.13833333  203.59333333]\n",
      " [-108.24333333   16.08166667  145.93666667]]\n",
      "[-117.53666667]\n",
      "[[-149.33666667 -105.40666667  -86.94666667  -80.35666667 -254.04666667\n",
      "  -180.40666667 -211.02666667 -270.32666667  -76.16666667  -68.05666667\n",
      "  -103.91666667  -85.18666667  -41.52666667  -46.18666667 -198.76666667\n",
      "  -190.69666667 -216.79666667 -221.99666667 -200.08666667 -277.53666667\n",
      "  -299.59666667 -308.73666667 -256.69666667 -221.82666667 -152.68666667\n",
      "  -109.02666667 -152.91666667 -149.50666667 -274.33666667 -211.67666667\n",
      "  -279.26666667 -287.60666667 -243.67666667 -227.22666667 -234.49666667\n",
      "  -209.56666667 -231.62666667 -254.97666667 -228.17666667 -350.09666667\n",
      "  -191.75333333 -158.71333333 -305.60333333 -318.60333333 -292.56333333\n",
      "  -215.51333333 -353.07333333 -136.51333333 -200.70333333 -194.11333333\n",
      "  -223.25333333 -281.12333333 -273.05333333 -158.45       -172.67\n",
      "  -294.09       -267.29       -250.43       -264.11       -336.9\n",
      "  -121.14       -148.89       -216.26       -209.94       -185.08666667\n",
      "  -243.27666667 -371.33666667  -67.18666667 -123.84666667 -175.07666667\n",
      "  -177.58666667 -253.47666667 -136.23333333 -106.29333333 -129.64333333\n",
      "  -235.74333333 -227.67333333 -276.53333333 -231.76333333 -203.38333333\n",
      "   -60.87333333 -190.32333333 -199.65333333 -181.45333333 -181.72333333\n",
      "  -142.72333333 -321.30333333 -313.23333333 -250.57333333 -168.65\n",
      "   -97.92       -124.99       -270.18       -247.59       -214.2\n",
      "  -241.27       -292.19        -52.5        -115.43        -76.16\n",
      "  -117.53666667]]\n",
      "(330, 101)\n",
      "-117.53666666666695\n",
      "-117.53666666666695\n"
     ]
    }
   ],
   "source": [
    "# Create the attributes for the no-purchase options:\n",
    "competitive_products = np.array([[70, 0, 0, 0, 0, 0, 0, 0, 0, 0],\n",
    "                                 [85, 0, 0, 0, 0, 1, 1, 1, 1, 1],\n",
    "                                 [100, 1, 1, 1, 1, 1, 1, 1 ,1, 1]])\n",
    "# Take the transpose to make it compatible with our partworths matrix:\n",
    "competitive_products = competitive_products.transpose()\n",
    "print(competitive_products)\n",
    "\n",
    "# Compute the utility of each of these competitive products for each customer:\n",
    "competitive_utilities = np.dot(partworths, competitive_products)\n",
    "print(competitive_utilities[0:5])\n",
    "\n",
    "# To get the no-purchase utilities, take the max along the product dimension:\n",
    "nopurchase_utilities = competitive_utilities.max(axis = 1)\n",
    "print(nopurchase_utilities[0:1])\n",
    "\n",
    "# Finally, let us tack these no-purchase utilities to the main utility matrix:\n",
    "utilities_mat = np.concatenate( (utilities_mat, nopurchase_utilities[:,None]) , axis = 1)\n",
    "print(utilities_mat[0:1])\n",
    "\n",
    "# Check that this worked:\n",
    "print(utilities_mat.shape)\n",
    "print(utilities_mat[0,100])\n",
    "print(nopurchase_utilities[0])"
   ]
  },
  {
   "cell_type": "markdown",
   "metadata": {},
   "source": [
    "## Computing first-choice expected profits and choice probabilities\n",
    "\n",
    "Now that we have figured out the marginal profits and utilities of all of the products, let's now move on to calculating the expected profit of different product lines, as well as the choice probabilities.\n",
    "\n",
    "Our first function below will compute the expected profit of a given product line (an array of products)."
   ]
  },
  {
   "cell_type": "code",
   "execution_count": 8,
   "metadata": {
    "scrolled": true
   },
   "outputs": [
    {
     "name": "stdout",
     "output_type": "stream",
     "text": [
      "Expected profit:  9.874242424242427\n",
      "Choice probabilities:  {0: 0.14848484848484853, 100: 0.8515151515151551}\n",
      "Expected profit:  32.289393939393946\n",
      "Choice probabilities:  {19: 0.15454545454545457, 29: 0.08484848484848487, 51: 0.14848484848484853, 100: 0.6121212121212142}\n"
     ]
    }
   ],
   "source": [
    "# Function to compute expected profit\n",
    "# S - the product line, represented as an array of integers\n",
    "# Precondition: S is an array of integers containing only numbers between 0 and 99, with no repetitions.\n",
    "def expected_profit(S):\n",
    "    # Add the no-purchase option:\n",
    "    # NB: the products are numbered from 0 to 99. Index 100 ( = nProducts) will correspond to the no-purchase option. \n",
    "    S2 = np.append(S, nProducts)\n",
    "    \n",
    "    choice_probabilities = {}\n",
    "    for i in S2:\n",
    "        choice_probabilities[i] = 0.0;\n",
    "    \n",
    "    for k in range(nCustomers):\n",
    "        ind = np.argmax( utilities_mat[k,S2])\n",
    "        choice_probabilities[ S2[ind] ] += 1.0/nCustomers\n",
    "        \n",
    "    exp_profit = sum( [choice_probabilities[i] * marginal_profit[i] for i in S])\n",
    "        \n",
    "    return exp_profit, choice_probabilities\n",
    "\n",
    "\n",
    "# Let's see one simple example -- we only offer product 1.\n",
    "exp_profit, choice_probabilities = expected_profit( [0] )\n",
    "print(\"Expected profit: \", exp_profit)\n",
    "print(\"Choice probabilities: \", choice_probabilities)\n",
    "\n",
    "# Another example: we offer 20, 30, 52:\n",
    "exp_profit, choice_probabilities = expected_profit( [19, 29, 51] )\n",
    "print(\"Expected profit: \", exp_profit)\n",
    "print(\"Choice probabilities: \", choice_probabilities)"
   ]
  },
  {
   "cell_type": "markdown",
   "metadata": {},
   "source": [
    "## Testing common-sense product lines\n",
    "\n",
    "Let's now try to see how different product lines will do in terms of profit.\n",
    "\n",
    "Our first product line will be to offer everything. Let's see what happens when we do this:"
   ]
  },
  {
   "cell_type": "code",
   "execution_count": 9,
   "metadata": {},
   "outputs": [
    {
     "name": "stdout",
     "output_type": "stream",
     "text": [
      "Expected profit (offer everything):  59.72878787878786\n"
     ]
    }
   ],
   "source": [
    "S_all = np.array([i for i in range(nProducts)])\n",
    "exp_profit_all, choice_probabilities_all = expected_profit( S_all )\n",
    "print(\"Expected profit (offer everything): \", exp_profit_all)"
   ]
  },
  {
   "cell_type": "markdown",
   "metadata": {},
   "source": [
    "If we offer all the 100 products, we will get an expected per-customer profit of \\\\$59.73. \n",
    "\n",
    "Let's see a different product line. Suppose that for every customer, we could offer their most preferred product. How much would we get with this product line?"
   ]
  },
  {
   "cell_type": "code",
   "execution_count": 10,
   "metadata": {
    "scrolled": true
   },
   "outputs": [
    {
     "name": "stdout",
     "output_type": "stream",
     "text": [
      "[ 0  1  2  3  4  5  6  7  9 10 11 12 13 18 19 20 22 25 33 39 41 49 51 52\n",
      " 58 59 62 63 64 66 67 69 70 71 73 74 76 79 80 81 82 84 85 87 88 89 90 92\n",
      " 94 95 96 97 98 99]\n",
      "Expected profit (offer most preferred):  59.72878787878786\n"
     ]
    }
   ],
   "source": [
    "# Use numpy's function argmax to obtain the element with the highest value.\n",
    "# Note: 0:nProducts will leave out column nProducts (= 100, which is where we are storing\n",
    "# the no-purchase option.)\n",
    "S_mostpref = np.argmax(utilities_mat[:,0:nProducts], axis = 1)\n",
    "\n",
    "S_mostpref = np.unique(S_mostpref)\n",
    "print(S_mostpref)\n",
    "\n",
    "exp_profit_mostpref, choice_probabilities_mostpref = expected_profit( S_mostpref )\n",
    "print(\"Expected profit (offer most preferred): \", exp_profit_mostpref)"
   ]
  },
  {
   "cell_type": "markdown",
   "metadata": {},
   "source": [
    "**Question:** Why did this happen?\n",
    "\n",
    "Let's see some more. A reasonable suggestion might be to restrict ourselves to all products with a price of \\\\$100."
   ]
  },
  {
   "cell_type": "code",
   "execution_count": 11,
   "metadata": {},
   "outputs": [
    {
     "name": "stdout",
     "output_type": "stream",
     "text": [
      "Expected profit (offer all priced at $100):  53.37575757575755\n"
     ]
    }
   ],
   "source": [
    "# Get all products priced at $100:\n",
    "S_price100 = [i for i in range(100) if grand_product_matrix[0,i] == 100 ]\n",
    "\n",
    "exp_profit_price100, choice_probabilities_price100 = expected_profit( S_price100 )\n",
    "print(\"Expected profit (offer all priced at $100): \", exp_profit_price100)"
   ]
  },
  {
   "cell_type": "markdown",
   "metadata": {},
   "source": [
    "This does slightly worse than offering all the products. \n",
    "\n",
    "One final option: let's suppose we offer the 10 products with the highest marginal profit."
   ]
  },
  {
   "cell_type": "code",
   "execution_count": 12,
   "metadata": {
    "scrolled": true
   },
   "outputs": [
    {
     "name": "stdout",
     "output_type": "stream",
     "text": [
      "profit_order:  [ 5  3 12 13  7 99 80 96  9  8 10 15  2 85 11 97 98  6  4 95  1 88 82 94\n",
      " 14 69 73 70 87 67 74 92 81 71  0 63 91 84 90 86 79 52 76 83 77 93 64 72\n",
      " 49 68 75 51 89 45 66 62 57 78 60 58 61 65 48 25 41 54 56 33 23 59 32 27\n",
      " 38 55 39 36 35 53 46 47 37 42 43 24 26 29 30 31 18 22 50 20 40 19 17 28\n",
      " 44 21 34 16]\n",
      "profit_order:  [16 34 21 44 28 17 19 40 20 50 22 18 31 30 29 26 24 43 42 37 47 46 53 35\n",
      " 36 39 55 38 27 32 59 23 33 56 54 41 25 48 65 61 58 60 78 57 62 66 45 89\n",
      " 51 75 68 49 72 64 93 77 83 76 52 79 86 90 84 91 63  0 71 81 92 74 67 87\n",
      " 70 73 69 14 94 82 88  1 95  4  6 98 97 11 85  2 15 10  8  9 96 80 99  7\n",
      " 13 12  3  5]\n",
      "Top 10 products in profit:  [16 34 21 44 28 17 19 40 20 50]\n",
      "Their profits:  [96.5 94.5 94.  92.  91.  90.5 90.  90.  89.5 89.5]\n",
      "Expected profit (offer top 10 profit products):  27.26060606060607\n",
      "Min utility for price:  -3.32866666666667\n",
      "Max utility for price:  -0.0033333333333333\n",
      "Bag: $100, Normal, Black, Velcro Flap\n"
     ]
    }
   ],
   "source": [
    "# Use the numpy function argsort to sort the array of marginal profits:\n",
    "profit_order = np.argsort(marginal_profit)\n",
    "\n",
    "# Print the indices that order the profits:\n",
    "print(\"profit_order: \", profit_order)\n",
    "\n",
    "# See what happens when we index marginal_profit according to profit_order:\n",
    "marginal_profit[profit_order]\n",
    "\n",
    "# Profits are sorted in increasing order.\n",
    "# Let's flip them:\n",
    "profit_order = np.flip(profit_order, axis = 0)\n",
    "print(\"profit_order: \", profit_order)\n",
    "\n",
    "# The top 10 products in marginal profit can be obtained by using negative indices:\n",
    "S_topprofit = profit_order[0:10]\n",
    "print(\"Top 10 products in profit: \", S_topprofit)\n",
    "print(\"Their profits: \", marginal_profit[S_topprofit])\n",
    "\n",
    "# # Calculate expected profit:\n",
    "exp_profit_topprofit, choice_probabilities_topprofit = expected_profit( S_topprofit )\n",
    "print(\"Expected profit (offer top 10 profit products): \", exp_profit_topprofit)\n",
    "\n",
    "print(\"Min utility for price: \", partworths[:,0].min())\n",
    "print(\"Max utility for price: \", partworths[:,0].max())\n",
    "\n",
    "print( print_attributes( grand_product_matrix[:,16]))"
   ]
  },
  {
   "cell_type": "markdown",
   "metadata": {},
   "source": [
    "This does the worst out of all of the solutions we've seen so far!\n",
    "\n",
    "To summarize: the best solution so far is to offer either all the products (or equivalently, the set of products which are most preferred by at least one customer), which achieves an expected per-customer profit of \\$59.73.\n",
    "\n",
    "Can we do better than this?"
   ]
  },
  {
   "cell_type": "markdown",
   "metadata": {},
   "source": [
    "## Using integer programming to find optimal product lines\n",
    "\n",
    "We will now see how to formulate an integer programming problem to make this decision."
   ]
  },
  {
   "cell_type": "code",
   "execution_count": 13,
   "metadata": {
    "scrolled": true
   },
   "outputs": [
    {
     "name": "stdout",
     "output_type": "stream",
     "text": [
      "Set parameter Username\n",
      "Academic license - for non-commercial use only - expires 2023-11-18\n",
      "Creating constraints...\n",
      "Creating objective...\n",
      "Update completed\n",
      "Gurobi Optimizer version 10.0.1 build v10.0.1rc0 (mac64[rosetta2])\n",
      "\n",
      "CPU model: Apple M1 Max\n",
      "Thread count: 10 physical cores, 10 logical processors, using up to 10 threads\n",
      "\n",
      "Optimize a model with 66660 rows, 33430 columns and 3498660 nonzeros\n",
      "Model fingerprint: 0xb094c877\n",
      "Variable types: 0 continuous, 33430 integer (33430 binary)\n",
      "Coefficient statistics:\n",
      "  Matrix range     [1e-02, 7e+02]\n",
      "  Objective range  [1e-01, 3e-01]\n",
      "  Bounds range     [1e+00, 1e+00]\n",
      "  RHS range        [5e-02, 4e+02]\n",
      "Presolve removed 54597 rows and 27174 columns\n",
      "Presolve time: 4.64s\n",
      "Presolved: 12063 rows, 6256 columns, 124169 nonzeros\n",
      "Variable types: 0 continuous, 6256 integer (6256 binary)\n",
      "Found heuristic solution: objective 59.7621212\n",
      "Found heuristic solution: objective 60.4575758\n",
      "\n",
      "Root simplex log...\n",
      "\n",
      "Iteration    Objective       Primal Inf.    Dual Inf.      Time\n",
      "       0    2.1029090e+03   4.215884e+06   0.000000e+00      5s\n",
      "   12939    7.7744976e+01   0.000000e+00   0.000000e+00      7s\n",
      "\n",
      "Root relaxation: objective 7.774498e+01, 12939 iterations, 1.57 seconds (4.74 work units)\n",
      "\n",
      "    Nodes    |    Current Node    |     Objective Bounds      |     Work\n",
      " Expl Unexpl |  Obj  Depth IntInf | Incumbent    BestBd   Gap | It/Node Time\n",
      "\n",
      "     0     0   77.74498    0  778   60.45758   77.74498  28.6%     -    8s\n",
      "H    0     0                      72.7136364   77.74498  6.92%     -    9s\n",
      "H    0     0                      73.2424242   77.74498  6.15%     -    9s\n",
      "H    0     0                      74.9272727   77.74498  3.76%     -    9s\n",
      "H    0     0                      75.8924242   76.98715  1.44%     -   10s\n",
      "H    0     0                      76.0606061   76.98715  1.22%     -   10s\n",
      "H    0     0                      76.5666667   76.98715  0.55%     -   10s\n",
      "     0     0   76.98715    0  869   76.56667   76.98715  0.55%     -   11s\n",
      "     0     0   76.98577    0  857   76.56667   76.98577  0.55%     -   11s\n",
      "H    0     0                      76.7409091   76.98577  0.32%     -   11s\n",
      "H    0     0                      76.7787879   76.86629  0.11%     -   11s\n",
      "     0     0   76.86629    0  189   76.77879   76.86629  0.11%     -   11s\n",
      "     0     0   76.86629    0  189   76.77879   76.86629  0.11%     -   11s\n",
      "     0     0   76.85711    0  616   76.77879   76.85711  0.10%     -   11s\n",
      "     0     0   76.85709    0  616   76.77879   76.85709  0.10%     -   11s\n",
      "     0     0   76.85705    0  616   76.77879   76.85705  0.10%     -   11s\n",
      "     0     0   76.85694    0  165   76.77879   76.85694  0.10%     -   11s\n",
      "     0     0   76.80326    0  199   76.77879   76.80326  0.03%     -   11s\n",
      "H    0     0                      76.8030303   76.80326  0.00%     -   12s\n",
      "\n",
      "Explored 1 nodes (17215 simplex iterations) in 12.08 seconds (16.13 work units)\n",
      "Thread count was 10 (of 10 available processors)\n",
      "\n",
      "Solution count 10: 76.803 76.7788 76.7409 ... 60.4576\n",
      "\n",
      "Optimal solution found (tolerance 1.00e-04)\n",
      "Best objective 7.680303030303e+01, best bound 7.680303030303e+01, gap 0.0000%\n",
      "Optimal set of products:  [0, 17, 18, 19, 20, 22, 23, 25, 26, 27, 28, 29, 31, 32, 33, 34, 35, 36, 37, 38, 39, 40, 41, 42, 43, 47, 50, 51, 52, 55, 57, 59, 60, 65, 73, 75, 89, 90, 91]\n",
      "Optimal profit:  76.80303030303024\n",
      "Optimal profit (via expected_profit):  76.80303030303031\n"
     ]
    }
   ],
   "source": [
    "from gurobipy import *\n",
    "\n",
    "m = Model()\n",
    "\n",
    "# Create the decision variables\n",
    "x = m.addVars(nProducts, vtype = GRB.BINARY )\n",
    "y = m.addVars(nCustomers, nProducts+1, vtype = GRB.BINARY)\n",
    "\n",
    "# Create the constraints:\n",
    "print(\"Creating constraints...\")\n",
    "for k in range(nCustomers):\n",
    "    m.addConstr( sum(y[k,i] for i in range(nProducts+1)) == 1)\n",
    "    for i in range(nProducts):\n",
    "        m.addConstr( y[k,i] <= x[i] )\n",
    "        m.addConstr( quicksum( utilities_mat[k,j] * y[k,j] for j in range(nProducts+1)) >= utilities_mat[k,i] * x[i] + utilities_mat[k,nProducts]*(1 - x[i]))\n",
    "    m.addConstr( quicksum( utilities_mat[k,j] * y[k,j] for j in range(nProducts+1)) >= utilities_mat[k,nProducts] )\n",
    "\n",
    "\n",
    "\n",
    "# Create the objective:\n",
    "print(\"Creating objective...\")\n",
    "m.setObjective( quicksum(marginal_profit[i] * 1.0/nCustomers * y[k,i] for k in range(nCustomers) for i in range(nProducts)), GRB.MAXIMIZE)\n",
    "\n",
    "# Update and solve\n",
    "m.update()\n",
    "\n",
    "print(\"Update completed\")\n",
    "m.optimize()\n",
    "\n",
    "\n",
    "S_optimal = [i for i in range(nProducts) if x[i].x > 0.5]\n",
    "print(\"Optimal set of products: \", S_optimal)\n",
    "\n",
    "optimal_profit = m.objval\n",
    "print(\"Optimal profit: \",optimal_profit)\n",
    "\n",
    "# Verify that optimal profit is correct:\n",
    "exp_profit_S_optimal, choice_probabilities_S_optimal = expected_profit( S_optimal )\n",
    "print(\"Optimal profit (via expected_profit): \", exp_profit_S_optimal)"
   ]
  },
  {
   "cell_type": "code",
   "execution_count": 14,
   "metadata": {
    "scrolled": true
   },
   "outputs": [
    {
     "name": "stdout",
     "output_type": "stream",
     "text": [
      "Optimal profit (via expected_profit):  76.80303030303031\n",
      "Relative improvement:  28.586286497044775\n",
      "Prod 0: 0.04242424242424241\n",
      "Prod 17: 0.0\n",
      "Prod 18: 0.033333333333333326\n",
      "Prod 19: 0.015151515151515152\n",
      "Prod 20: 0.02121212121212121\n",
      "Prod 22: 0.012121212121212121\n",
      "Prod 23: 0.015151515151515152\n",
      "Prod 25: 0.039393939393939384\n",
      "Prod 26: 0.04242424242424241\n",
      "Prod 27: 0.05454545454545453\n",
      "Prod 28: 0.0030303030303030303\n",
      "Prod 29: 0.00909090909090909\n",
      "Prod 31: 0.006060606060606061\n",
      "Prod 32: 0.012121212121212121\n",
      "Prod 33: 0.15151515151515155\n",
      "Prod 34: 0.0\n",
      "Prod 35: 0.00909090909090909\n",
      "Prod 36: 0.0030303030303030303\n",
      "Prod 37: 0.0030303030303030303\n",
      "Prod 38: 0.012121212121212121\n",
      "Prod 39: 0.015151515151515152\n",
      "Prod 40: 0.0\n",
      "Prod 41: 0.04242424242424241\n",
      "Prod 42: 0.0\n",
      "Prod 43: 0.0030303030303030303\n",
      "Prod 47: 0.0\n",
      "Prod 50: 0.0\n",
      "Prod 51: 0.07575757575757576\n",
      "Prod 52: 0.1848484848484848\n",
      "Prod 55: 0.0030303030303030303\n",
      "Prod 57: 0.01818181818181818\n",
      "Prod 59: 0.02121212121212121\n",
      "Prod 60: 0.006060606060606061\n",
      "Prod 65: 0.0\n",
      "Prod 73: 0.07575757575757576\n",
      "Prod 75: 0.006060606060606061\n",
      "Prod 89: 0.0\n",
      "Prod 90: 0.036363636363636355\n",
      "Prod 91: 0.01818181818181818\n",
      "Prod 100: 0.00909090909090909\n"
     ]
    }
   ],
   "source": [
    "# Verify that optimal profit is correct:\n",
    "exp_profit_S_optimal, choice_probabilities_S_optimal = expected_profit( S_optimal )\n",
    "print(\"Optimal profit (via expected_profit): \", exp_profit_S_optimal)\n",
    "\n",
    "rel_improvement = 100*(exp_profit_S_optimal - exp_profit_mostpref)/exp_profit_mostpref\n",
    "print(\"Relative improvement: \", rel_improvement)\n",
    "\n",
    "for i in choice_probabilities_S_optimal.keys():\n",
    "    print(\"Prod \" + str(i) + \": \" + str(choice_probabilities_S_optimal[i]) )"
   ]
  },
  {
   "cell_type": "markdown",
   "metadata": {},
   "source": [
    "## Solving the relaxation \n",
    "\n",
    "Another valuable piece of information that we can obtain from this model is the optimal value of the relaxation:\n"
   ]
  },
  {
   "cell_type": "code",
   "execution_count": 15,
   "metadata": {},
   "outputs": [
    {
     "name": "stdout",
     "output_type": "stream",
     "text": [
      "Gurobi Optimizer version 10.0.1 build v10.0.1rc0 (mac64[rosetta2])\n",
      "\n",
      "CPU model: Apple M1 Max\n",
      "Thread count: 10 physical cores, 10 logical processors, using up to 10 threads\n",
      "\n",
      "Optimize a model with 66660 rows, 33430 columns and 3498660 nonzeros\n",
      "Model fingerprint: 0x08b45ee0\n",
      "Coefficient statistics:\n",
      "  Matrix range     [1e-02, 7e+02]\n",
      "  Objective range  [1e-01, 3e-01]\n",
      "  Bounds range     [1e+00, 1e+00]\n",
      "  RHS range        [5e-02, 4e+02]\n",
      "Presolve removed 660 rows and 1 columns\n",
      "Presolve time: 1.70s\n",
      "Presolved: 66000 rows, 33429 columns, 3464340 nonzeros\n",
      "\n",
      "Concurrent LP optimizer: primal simplex, dual simplex, and barrier\n",
      "Showing barrier log only...\n",
      "\n",
      "Ordering time: 2.61s\n",
      "\n",
      "Barrier performed 0 iterations in 5.17 seconds (5.88 work units)\n",
      "Barrier solve interrupted - model solved by another algorithm\n",
      "\n",
      "\n",
      "Solved with dual simplex\n",
      "Iteration    Objective       Primal Inf.    Dual Inf.      Time\n",
      "    5058    8.1688975e+01   0.000000e+00   0.000000e+00      5s\n",
      "\n",
      "Solved in 5058 iterations and 5.26 seconds (14.12 work units)\n",
      "Optimal objective  8.168897471e+01\n",
      "Relaxation bound:  81.6889747099899\n"
     ]
    }
   ],
   "source": [
    "m_relaxed = m.relax()\n",
    "\n",
    "m_relaxed.optimize()\n",
    "\n",
    "relaxation_bound = m_relaxed.objval\n",
    "\n",
    "print(\"Relaxation bound: \", relaxation_bound)\n",
    "\n"
   ]
  },
  {
   "cell_type": "code",
   "execution_count": 16,
   "metadata": {},
   "outputs": [
    {
     "name": "stdout",
     "output_type": "stream",
     "text": [
      "x[i] =  1.0\n",
      "x[i] =  0.0\n",
      "x[i] =  0.0\n",
      "x[i] =  0.0\n",
      "x[i] =  0.0\n",
      "x[i] =  0.0\n",
      "x[i] =  0.0\n",
      "x[i] =  0.0\n",
      "x[i] =  0.0\n",
      "x[i] =  0.0\n",
      "x[i] =  0.0\n",
      "x[i] =  0.0\n",
      "x[i] =  0.0\n",
      "x[i] =  0.0\n",
      "x[i] =  0.0\n",
      "x[i] =  0.0\n",
      "x[i] =  0.0\n",
      "x[i] =  1.0\n",
      "x[i] =  1.0\n",
      "x[i] =  1.0\n",
      "x[i] =  1.0\n",
      "x[i] =  0.0\n",
      "x[i] =  1.0\n",
      "x[i] =  1.0\n",
      "x[i] =  0.0\n",
      "x[i] =  1.0\n",
      "x[i] =  1.0\n",
      "x[i] =  1.0\n",
      "x[i] =  1.0\n",
      "x[i] =  1.0\n",
      "x[i] =  -0.0\n",
      "x[i] =  1.0\n",
      "x[i] =  1.0\n",
      "x[i] =  1.0\n",
      "x[i] =  1.0\n",
      "x[i] =  1.0\n",
      "x[i] =  1.0\n",
      "x[i] =  1.0\n",
      "x[i] =  1.0\n",
      "x[i] =  1.0\n",
      "x[i] =  1.0\n",
      "x[i] =  1.0\n",
      "x[i] =  1.0\n",
      "x[i] =  1.0\n",
      "x[i] =  0.0\n",
      "x[i] =  -0.0\n",
      "x[i] =  0.0\n",
      "x[i] =  1.0\n",
      "x[i] =  0.0\n",
      "x[i] =  0.0\n",
      "x[i] =  1.0\n",
      "x[i] =  1.0\n",
      "x[i] =  1.0\n",
      "x[i] =  0.0\n",
      "x[i] =  0.0\n",
      "x[i] =  1.0\n",
      "x[i] =  -0.0\n",
      "x[i] =  1.0\n",
      "x[i] =  0.0\n",
      "x[i] =  1.0\n",
      "x[i] =  1.0\n",
      "x[i] =  0.0\n",
      "x[i] =  0.0\n",
      "x[i] =  0.0\n",
      "x[i] =  0.0\n",
      "x[i] =  1.0\n",
      "x[i] =  0.0\n",
      "x[i] =  0.0\n",
      "x[i] =  0.0\n",
      "x[i] =  0.0\n",
      "x[i] =  0.0\n",
      "x[i] =  0.0\n",
      "x[i] =  0.0\n",
      "x[i] =  1.0\n",
      "x[i] =  0.0\n",
      "x[i] =  1.0\n",
      "x[i] =  0.0\n",
      "x[i] =  -0.0\n",
      "x[i] =  0.0\n",
      "x[i] =  0.0\n",
      "x[i] =  0.0\n",
      "x[i] =  0.0\n",
      "x[i] =  0.0\n",
      "x[i] =  0.0\n",
      "x[i] =  0.0\n",
      "x[i] =  0.0\n",
      "x[i] =  0.0\n",
      "x[i] =  0.0\n",
      "x[i] =  0.0\n",
      "x[i] =  1.0\n",
      "x[i] =  1.0\n",
      "x[i] =  1.0\n",
      "x[i] =  0.0\n",
      "x[i] =  0.0\n",
      "x[i] =  0.0\n",
      "x[i] =  0.0\n",
      "x[i] =  0.0\n",
      "x[i] =  0.0\n",
      "x[i] =  0.0\n",
      "x[i] =  0.0\n"
     ]
    }
   ],
   "source": [
    "for i in range(nProducts):\n",
    "    print(\"x[i] = \", x[i].x)"
   ]
  },
  {
   "cell_type": "markdown",
   "metadata": {},
   "source": [
    "The relaxation bound is \\\\$81.69. This tells us that no product line can obtain a per-customer expected profit greater than \\\\$81.69. This is valuable because earlier, when we were testing simple product lines, we could have compared their value to this bound to see how far away from optimality we were. (The best value was \\\\$59.73, which is quite a bit lower; this would suggest that it is worth investing some effort to try to find a better product line.)"
   ]
  },
  {
   "cell_type": "markdown",
   "metadata": {},
   "source": [
    "## Constraining the model\n",
    "\n",
    "Knowing the optimal product line is useful, but one feature of this product line that is perhaps unattractive is that it is large -- it has ..."
   ]
  },
  {
   "cell_type": "code",
   "execution_count": 17,
   "metadata": {},
   "outputs": [
    {
     "data": {
      "text/plain": [
       "39"
      ]
     },
     "execution_count": 17,
     "metadata": {},
     "output_type": "execute_result"
    }
   ],
   "source": [
    "len(S_optimal)"
   ]
  },
  {
   "cell_type": "markdown",
   "metadata": {},
   "source": [
    "... 39 products in it. Timbuk2 may be interested in understanding if a similar per-customer profit can be achieved with fewer products. \n",
    "\n",
    "(NB: the number you see here will be machine dependent. On my 2017 era Macbook this was 37.)\n",
    "\n",
    "To see this, let's add a constraint to the model, update and solve:"
   ]
  },
  {
   "cell_type": "code",
   "execution_count": 18,
   "metadata": {},
   "outputs": [
    {
     "name": "stdout",
     "output_type": "stream",
     "text": [
      "Gurobi Optimizer version 10.0.1 build v10.0.1rc0 (mac64[rosetta2])\n",
      "\n",
      "CPU model: Apple M1 Max\n",
      "Thread count: 10 physical cores, 10 logical processors, using up to 10 threads\n",
      "\n",
      "Optimize a model with 66661 rows, 33430 columns and 3498760 nonzeros\n",
      "Model fingerprint: 0xc6e9bd7b\n",
      "Variable types: 0 continuous, 33430 integer (33430 binary)\n",
      "Coefficient statistics:\n",
      "  Matrix range     [1e-02, 7e+02]\n",
      "  Objective range  [1e-01, 3e-01]\n",
      "  Bounds range     [1e+00, 1e+00]\n",
      "  RHS range        [5e-02, 4e+02]\n",
      "\n",
      "MIP start from previous solve did not produce a new incumbent solution\n",
      "MIP start from previous solve violates constraint R66660 by 34.000000000\n",
      "\n",
      "Presolve removed 54597 rows and 27174 columns\n",
      "Presolve time: 4.77s\n",
      "Presolved: 12064 rows, 6256 columns, 124281 nonzeros\n",
      "Variable types: 0 continuous, 6256 integer (6256 binary)\n",
      "Found heuristic solution: objective 45.0878788\n",
      "\n",
      "Root simplex log...\n",
      "\n",
      "Iteration    Objective       Primal Inf.    Dual Inf.      Time\n",
      "       0    2.1044943e+03   4.224123e+06   0.000000e+00      5s\n",
      "   20276    7.2819697e+01   0.000000e+00   0.000000e+00      8s\n",
      "\n",
      "Root relaxation: objective 7.281970e+01, 20276 iterations, 2.91 seconds (7.78 work units)\n",
      "\n",
      "    Nodes    |    Current Node    |     Objective Bounds      |     Work\n",
      " Expl Unexpl |  Obj  Depth IntInf | Incumbent    BestBd   Gap | It/Node Time\n",
      "\n",
      "*    0     0               0      72.8196970   72.81970  0.00%     -    8s\n",
      "\n",
      "Explored 1 nodes (20276 simplex iterations) in 8.05 seconds (14.56 work units)\n",
      "Thread count was 10 (of 10 available processors)\n",
      "\n",
      "Solution count 2: 72.8197 45.0879 \n",
      "\n",
      "Optimal solution found (tolerance 1.00e-04)\n",
      "Best objective 7.281969696970e+01, best bound 7.281969696970e+01, gap 0.0000%\n",
      "Optimal set of products (width of product line at most 5):  [0, 18, 33, 52, 73]\n",
      "Optimal profit (width of product line at most 5):  72.81969696969686\n"
     ]
    }
   ],
   "source": [
    "m.addConstr( sum(x[i] for i in range(nProducts)) <= 5) # no more than 5 products\n",
    "\n",
    "m.update()\n",
    "m.optimize()\n",
    "\n",
    "# Retrieve the optimal solution and objective value:\n",
    "S_optimal_constrained = [i for i in range(nProducts) if x[i].x > 0.5]\n",
    "print(\"Optimal set of products (width of product line at most 5): \", S_optimal_constrained)\n",
    "\n",
    "optimal_profit_constrained = m.objval\n",
    "print(\"Optimal profit (width of product line at most 5): \", optimal_profit_constrained)"
   ]
  },
  {
   "cell_type": "markdown",
   "metadata": {},
   "source": [
    "We thus obtain a product line of 5 products, that achieves a per-customer profit of \\\\$72.82 -- still significantly higher than \\\\$59.73 from before.\n",
    "\n",
    "It is interesting to see what these products are:"
   ]
  },
  {
   "cell_type": "code",
   "execution_count": 19,
   "metadata": {},
   "outputs": [
    {
     "name": "stdout",
     "output_type": "stream",
     "text": [
      "Optimal product line (width = 5):\n",
      "0 : Bag: $70, Normal, Black, Velcro Flap\n",
      "18 : Bag: $100, Normal, Black, Handle, PDA Holder, Cellphone Holder, Mesh Pocket\n",
      "33 : Bag: $100, Large, Black, Logo, Handle, Velcro Flap, Boot\n",
      "52 : Bag: $95, Large, Grey/Red, Logo, Handle, PDA Holder, Cellphone Holder, Mesh Pocket, Velcro Flap, Boot\n",
      "73 : Bag: $80, Normal, Black, PDA Holder, Cellphone Holder, Mesh Pocket, Velcro Flap, Boot\n",
      "\n",
      "Competitive offerings:\n",
      "Competitor 0 : Bag: $70, Normal, Black\n",
      "Competitor 1 : Bag: $85, Normal, Black, PDA Holder, Cellphone Holder, Mesh Pocket, Velcro Flap, Boot\n",
      "Competitor 2 : Bag: $100, Large, Grey/Red, Logo, Handle, PDA Holder, Cellphone Holder, Mesh Pocket, Velcro Flap, Boot\n"
     ]
    }
   ],
   "source": [
    "# Print the new product line\n",
    "print(\"Optimal product line (width = 5):\")\n",
    "for i in S_optimal_constrained:\n",
    "    print(str(i)+ \" : \" +print_attributes(grand_product_matrix[:,i]))\n",
    "    \n",
    "# Compare this to competitive products:\n",
    "print(\"\")\n",
    "print(\"Competitive offerings:\")\n",
    "for i in range(competitive_products.shape[1]):\n",
    "    print(\"Competitor \" + str(i) + \" : \" + print_attributes(competitive_products[:,i]) )"
   ]
  },
  {
   "cell_type": "markdown",
   "metadata": {},
   "source": [
    "Do you see what the optimal product line is doing? \n",
    "\n",
    "(It will be easier to see in the slides...)"
   ]
  },
  {
   "cell_type": "code",
   "execution_count": 20,
   "metadata": {},
   "outputs": [
    {
     "name": "stdout",
     "output_type": "stream",
     "text": [
      "19.586636363636366\n",
      "-91.24\n",
      "99.81\n",
      "237\n"
     ]
    }
   ],
   "source": [
    "print(partworths[:,8].mean())\n",
    "print(partworths[:,8].min())\n",
    "print(partworths[:,8].max())\n",
    "\n",
    "print( (partworths[:,8] >= 0).sum() )"
   ]
  },
  {
   "cell_type": "code",
   "execution_count": null,
   "metadata": {},
   "outputs": [],
   "source": []
  }
 ],
 "metadata": {
  "kernelspec": {
   "display_name": "Python 3 (ipykernel)",
   "language": "python",
   "name": "python3"
  },
  "language_info": {
   "codemirror_mode": {
    "name": "ipython",
    "version": 3
   },
   "file_extension": ".py",
   "mimetype": "text/x-python",
   "name": "python",
   "nbconvert_exporter": "python",
   "pygments_lexer": "ipython3",
   "version": "3.9.13"
  }
 },
 "nbformat": 4,
 "nbformat_minor": 4
}
